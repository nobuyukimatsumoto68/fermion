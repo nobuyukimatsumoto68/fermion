{
 "cells": [
  {
   "cell_type": "code",
   "execution_count": 1,
   "id": "b849a0c4",
   "metadata": {},
   "outputs": [],
   "source": [
    "import numpy as np"
   ]
  },
  {
   "cell_type": "code",
   "execution_count": null,
   "id": "211b6f70",
   "metadata": {},
   "outputs": [],
   "source": []
  },
  {
   "cell_type": "code",
   "execution_count": null,
   "id": "b9b57640",
   "metadata": {},
   "outputs": [],
   "source": []
  },
  {
   "cell_type": "code",
   "execution_count": 39,
   "id": "0a7158ae",
   "metadata": {},
   "outputs": [],
   "source": [
    "# 1.0; complex ev exists\n",
    "lis=[\n",
    "    # Z, Z1\n",
    "    [-4.062500000000000e+00, -6.875000000000000e-01],\n",
    "    [4.375000000000000e+00, 1.562500000000000e+00],\n",
    "    [4.375000000000000e+00, 1.562500000000000e+00],\n",
    "    [4.375000000000000e+00, 1.562500000000000e+00],\n",
    "]"
   ]
  },
  {
   "cell_type": "code",
   "execution_count": 40,
   "id": "f016b9f3",
   "metadata": {},
   "outputs": [],
   "source": [
    "# crit; zero ev exists\n",
    "lis=[\n",
    "    # Z, Z1\n",
    "    [7.355227538141662e-16, 6.666666666666669e-01],\n",
    "    [1.481481481481481e+00, 1.111111111111111e+00],\n",
    "    [1.481481481481481e+00, 1.111111111111111e+00],\n",
    "    [1.481481481481481e+00, 1.111111111111111e+00],\n",
    "]"
   ]
  },
  {
   "cell_type": "code",
   "execution_count": 41,
   "id": "4d6e612a",
   "metadata": {},
   "outputs": [],
   "source": [
    "# 0.5; ev all real\n",
    "lis=[\n",
    "    # Z, Z1\n",
    "    [6.835937500000000e-01, 8.945312500000000e-01],\n",
    "    [1.131835937500000e+00, 1.035156250000000e+00],\n",
    "    [1.131835937500000e+00, 1.035156250000000e+00],\n",
    "    [1.131835937500000e+00, 1.035156250000000e+00],\n",
    "]"
   ]
  },
  {
   "cell_type": "code",
   "execution_count": null,
   "id": "494e822b",
   "metadata": {},
   "outputs": [],
   "source": []
  },
  {
   "cell_type": "code",
   "execution_count": 42,
   "id": "a1986591",
   "metadata": {},
   "outputs": [],
   "source": [
    "numer = -lis[0][1] + lis[1][1] + lis[2][1] + lis[3][1]\n",
    "denom = -lis[0][0] + lis[1][0] + lis[2][0] + lis[3][0]"
   ]
  },
  {
   "cell_type": "code",
   "execution_count": 43,
   "id": "d26a9cc8",
   "metadata": {},
   "outputs": [
    {
     "data": {
      "text/plain": [
       "-0.18473172488296719"
      ]
     },
     "execution_count": 43,
     "metadata": {},
     "output_type": "execute_result"
    }
   ],
   "source": [
    "numer/denom - 1.0"
   ]
  },
  {
   "cell_type": "code",
   "execution_count": 44,
   "id": "2ea68f2c",
   "metadata": {},
   "outputs": [
    {
     "data": {
      "text/plain": [
       "1.35595703125"
      ]
     },
     "execution_count": 44,
     "metadata": {},
     "output_type": "execute_result"
    }
   ],
   "source": [
    "denom / 2.0"
   ]
  },
  {
   "cell_type": "markdown",
   "id": "290f6601",
   "metadata": {},
   "source": [
    "### "
   ]
  },
  {
   "cell_type": "code",
   "execution_count": 12,
   "id": "c07e652a",
   "metadata": {},
   "outputs": [
    {
     "data": {
      "text/plain": [
       "0.16923076923076924"
      ]
     },
     "execution_count": 12,
     "metadata": {},
     "output_type": "execute_result"
    }
   ],
   "source": [
    "lis[0][1]/lis[0][0]"
   ]
  },
  {
   "cell_type": "code",
   "execution_count": 13,
   "id": "2be13356",
   "metadata": {},
   "outputs": [
    {
     "data": {
      "text/plain": [
       "0.35714285714285715"
      ]
     },
     "execution_count": 13,
     "metadata": {},
     "output_type": "execute_result"
    }
   ],
   "source": [
    "lis[1][1]/lis[1][0]"
   ]
  },
  {
   "cell_type": "code",
   "execution_count": 11,
   "id": "ddc7f8b0",
   "metadata": {},
   "outputs": [
    {
     "data": {
      "text/plain": [
       "0.35714285714285715"
      ]
     },
     "execution_count": 11,
     "metadata": {},
     "output_type": "execute_result"
    }
   ],
   "source": [
    "lis[2][1]/lis[2][0]fg"
   ]
  },
  {
   "cell_type": "code",
   "execution_count": null,
   "id": "96fba7da",
   "metadata": {},
   "outputs": [],
   "source": []
  }
 ],
 "metadata": {
  "kernelspec": {
   "display_name": "Python 3 (ipykernel)",
   "language": "python",
   "name": "python3"
  },
  "language_info": {
   "codemirror_mode": {
    "name": "ipython",
    "version": 3
   },
   "file_extension": ".py",
   "mimetype": "text/x-python",
   "name": "python",
   "nbconvert_exporter": "python",
   "pygments_lexer": "ipython3",
   "version": "3.10.12"
  }
 },
 "nbformat": 4,
 "nbformat_minor": 5
}
