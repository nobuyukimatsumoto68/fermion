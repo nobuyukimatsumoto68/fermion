{
 "cells": [
  {
   "cell_type": "code",
   "execution_count": 1,
   "id": "8c618f8c",
   "metadata": {},
   "outputs": [],
   "source": [
    "import numpy as np\n",
    "import matplotlib.pyplot as plt"
   ]
  },
  {
   "cell_type": "code",
   "execution_count": null,
   "id": "6d66ab5d",
   "metadata": {},
   "outputs": [],
   "source": []
  },
  {
   "cell_type": "code",
   "execution_count": 2,
   "id": "755afe43",
   "metadata": {},
   "outputs": [],
   "source": [
    "spec_m001 = np.loadtxt(\"spec_m001.dat\")\n",
    "spec_m1 = np.loadtxt(\"spec_m1.dat\")\n",
    "Lx = 36\n",
    "Ly = 36"
   ]
  },
  {
   "cell_type": "code",
   "execution_count": 3,
   "id": "9a62a219",
   "metadata": {},
   "outputs": [],
   "source": [
    "nvacant = int(Lx*Ly/3)\n",
    "spec_nontriv_m1 = spec_m1[2*nvacant:]\n",
    "spec_nontriv_m001 = spec_m001[2*nvacant:]"
   ]
  },
  {
   "cell_type": "code",
   "execution_count": 4,
   "id": "dd74b997",
   "metadata": {},
   "outputs": [
    {
     "data": {
      "image/png": "[encoded data removed]",
      "text/plain": [
       "<Figure size 432x288 with 1 Axes>"
      ]
     },
     "metadata": {
      "needs_background": "light"
     },
     "output_type": "display_data"
    }
   ],
   "source": [
    "plt.scatter( spec_nontriv_m001.T[0], spec_nontriv_m001.T[1], label=\"$m=0.01$\" )\n",
    "plt.scatter( spec_nontriv_m1.T[0], spec_nontriv_m1.T[1], label=\"$m=1$\")\n",
    "plt.legend()\n",
    "\n",
    "plt.savefig(\"spectrum.pdf\", bbox_inches='tight')"
   ]
  },
  {
   "cell_type": "code",
   "execution_count": null,
   "id": "6076e490",
   "metadata": {},
   "outputs": [],
   "source": []
  },
  {
   "cell_type": "code",
   "execution_count": null,
   "id": "e68de5d3",
   "metadata": {},
   "outputs": [],
   "source": []
  },
  {
   "cell_type": "code",
   "execution_count": null,
   "id": "000386f3",
   "metadata": {},
   "outputs": [],
   "source": []
  }
 ],
 "metadata": {
  "kernelspec": {
   "display_name": "Python 3 (ipykernel)",
   "language": "python",
   "name": "python3"
  },
  "language_info": {
   "codemirror_mode": {
    "name": "ipython",
    "version": 3
   },
   "file_extension": ".py",
   "mimetype": "text/x-python",
   "name": "python",
   "nbconvert_exporter": "python",
   "pygments_lexer": "ipython3",
   "version": "3.9.12"
  }
 },
 "nbformat": 4,
 "nbformat_minor": 5
}
