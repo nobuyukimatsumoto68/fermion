{
 "cells": [
  {
   "cell_type": "code",
   "execution_count": 9,
   "id": "45a0d6a7",
   "metadata": {},
   "outputs": [],
   "source": [
    "import numpy as np\n",
    "import matplotlib.pyplot as plt\n",
    "\n",
    "import scipy as sp\n",
    "import scipy.linalg\n",
    "import scipy.optimize\n",
    "# import scipy.special\n",
    "\n",
    "from mpl_toolkits.mplot3d import Axes3D\n",
    "\n",
    "# %matplotlib widget"
   ]
  },
  {
   "cell_type": "code",
   "execution_count": 14,
   "id": "8ce77c5c",
   "metadata": {},
   "outputs": [],
   "source": [
    "Lx = 6*32\n",
    "Ly = Lx\n",
    "N = 2*Lx*Ly\n",
    "Neff = int( N*2/3 )\n",
    "\n",
    "sizeofdouble = 8 # bytes"
   ]
  },
  {
   "cell_type": "code",
   "execution_count": 15,
   "id": "e5d9dc03",
   "metadata": {},
   "outputs": [
    {
     "data": {
      "text/plain": [
       "38.654705664"
      ]
     },
     "execution_count": 15,
     "metadata": {},
     "output_type": "execute_result"
    }
   ],
   "source": [
    "Neff*Neff*sizeofdouble*2 / 1.0e9"
   ]
  },
  {
   "cell_type": "code",
   "execution_count": null,
   "id": "b0bb3558",
   "metadata": {},
   "outputs": [],
   "source": []
  }
 ],
 "metadata": {
  "kernelspec": {
   "display_name": "Python 3 (ipykernel)",
   "language": "python",
   "name": "python3"
  },
  "language_info": {
   "codemirror_mode": {
    "name": "ipython",
    "version": 3
   },
   "file_extension": ".py",
   "mimetype": "text/x-python",
   "name": "python",
   "nbconvert_exporter": "python",
   "pygments_lexer": "ipython3",
   "version": "3.10.12"
  }
 },
 "nbformat": 4,
 "nbformat_minor": 5
}
